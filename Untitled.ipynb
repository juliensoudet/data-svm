{
 "cells": [
  {
   "cell_type": "code",
   "execution_count": 1,
   "id": "d675d8bd",
   "metadata": {},
   "outputs": [
    {
     "data": {
      "text/plain": [
       "True"
      ]
     },
     "execution_count": 1,
     "metadata": {},
     "output_type": "execute_result"
    }
   ],
   "source": [
    "True or False"
   ]
  },
  {
   "cell_type": "code",
   "execution_count": 2,
   "id": "9c8cad07",
   "metadata": {},
   "outputs": [
    {
     "data": {
      "text/plain": [
       "3"
      ]
     },
     "execution_count": 2,
     "metadata": {},
     "output_type": "execute_result"
    }
   ],
   "source": [
    "1 + 2 % 3"
   ]
  },
  {
   "cell_type": "code",
   "execution_count": 3,
   "id": "93b4940a",
   "metadata": {},
   "outputs": [
    {
     "data": {
      "text/plain": [
       "0"
      ]
     },
     "execution_count": 3,
     "metadata": {},
     "output_type": "execute_result"
    }
   ],
   "source": [
    "(1+2)%3"
   ]
  },
  {
   "cell_type": "code",
   "execution_count": 4,
   "id": "d25473e6",
   "metadata": {},
   "outputs": [
    {
     "data": {
      "text/plain": [
       "3"
      ]
     },
     "execution_count": 4,
     "metadata": {},
     "output_type": "execute_result"
    }
   ],
   "source": [
    "1+(2%3)"
   ]
  },
  {
   "cell_type": "code",
   "execution_count": 5,
   "id": "b1fab867",
   "metadata": {},
   "outputs": [
    {
     "data": {
      "text/plain": [
       "True"
      ]
     },
     "execution_count": 5,
     "metadata": {},
     "output_type": "execute_result"
    }
   ],
   "source": [
    "'Bacon' < 'bacon'"
   ]
  },
  {
   "cell_type": "code",
   "execution_count": 6,
   "id": "e4408ee8",
   "metadata": {},
   "outputs": [
    {
     "data": {
      "text/plain": [
       "3"
      ]
     },
     "execution_count": 6,
     "metadata": {},
     "output_type": "execute_result"
    }
   ],
   "source": [
    "1 + 2"
   ]
  },
  {
   "cell_type": "code",
   "execution_count": 7,
   "id": "6be9657d",
   "metadata": {},
   "outputs": [
    {
     "data": {
      "text/plain": [
       "'onetwo'"
      ]
     },
     "execution_count": 7,
     "metadata": {},
     "output_type": "execute_result"
    }
   ],
   "source": [
    "\"one\" + \"two\""
   ]
  },
  {
   "cell_type": "code",
   "execution_count": 8,
   "id": "dfe619d6",
   "metadata": {},
   "outputs": [
    {
     "ename": "TypeError",
     "evalue": "unsupported operand type(s) for +: 'int' and 'str'",
     "output_type": "error",
     "traceback": [
      "\u001b[0;31m---------------------------------------------------------------------------\u001b[0m",
      "\u001b[0;31mTypeError\u001b[0m                                 Traceback (most recent call last)",
      "Cell \u001b[0;32mIn [8], line 1\u001b[0m\n\u001b[0;32m----> 1\u001b[0m \u001b[38;5;241;43m1\u001b[39;49m\u001b[43m \u001b[49m\u001b[38;5;241;43m+\u001b[39;49m\u001b[43m \u001b[49m\u001b[38;5;124;43m\"\u001b[39;49m\u001b[38;5;124;43mtwo\u001b[39;49m\u001b[38;5;124;43m\"\u001b[39;49m\n",
      "\u001b[0;31mTypeError\u001b[0m: unsupported operand type(s) for +: 'int' and 'str'"
     ]
    }
   ],
   "source": [
    "1 + \"two\""
   ]
  },
  {
   "cell_type": "code",
   "execution_count": 9,
   "id": "d8c7643d",
   "metadata": {},
   "outputs": [
    {
     "data": {
      "text/plain": [
       "'111'"
      ]
     },
     "execution_count": 9,
     "metadata": {},
     "output_type": "execute_result"
    }
   ],
   "source": [
    "3 * \"1\""
   ]
  },
  {
   "cell_type": "code",
   "execution_count": 10,
   "id": "e0827d27",
   "metadata": {},
   "outputs": [
    {
     "data": {
      "text/plain": [
       "'111'"
      ]
     },
     "execution_count": 10,
     "metadata": {},
     "output_type": "execute_result"
    }
   ],
   "source": [
    "\"1\" * 3"
   ]
  },
  {
   "cell_type": "code",
   "execution_count": 11,
   "id": "c753a1a6",
   "metadata": {},
   "outputs": [
    {
     "name": "stdout",
     "output_type": "stream",
     "text": [
      "111\n"
     ]
    }
   ],
   "source": [
    "print ('1'*3)"
   ]
  },
  {
   "cell_type": "code",
   "execution_count": 12,
   "id": "c9eea23f",
   "metadata": {},
   "outputs": [
    {
     "data": {
      "text/plain": [
       "2"
      ]
     },
     "execution_count": 12,
     "metadata": {},
     "output_type": "execute_result"
    }
   ],
   "source": [
    "True +1"
   ]
  },
  {
   "cell_type": "code",
   "execution_count": 13,
   "id": "855b8e0a",
   "metadata": {},
   "outputs": [
    {
     "name": "stdout",
     "output_type": "stream",
     "text": [
      "One and two is 3 and thas is all.\n"
     ]
    }
   ],
   "source": [
    "print (f'One and two is {1+2} and thas is all.')"
   ]
  },
  {
   "cell_type": "code",
   "execution_count": 14,
   "id": "8dcf7c3d",
   "metadata": {},
   "outputs": [],
   "source": [
    "def multiply (number): \n",
    "    return (number * 10)\n",
    "    "
   ]
  },
  {
   "cell_type": "code",
   "execution_count": 15,
   "id": "717ca84b",
   "metadata": {},
   "outputs": [
    {
     "data": {
      "text/plain": [
       "300"
      ]
     },
     "execution_count": 15,
     "metadata": {},
     "output_type": "execute_result"
    }
   ],
   "source": [
    "multiply(30)"
   ]
  },
  {
   "cell_type": "code",
   "execution_count": 21,
   "id": "b73059d6",
   "metadata": {},
   "outputs": [],
   "source": [
    "def non_zero (number):\n",
    "    if  number != 0:\n",
    "        return True\n",
    "    else:\n",
    "        return False"
   ]
  },
  {
   "cell_type": "code",
   "execution_count": 19,
   "id": "cbaf14f6",
   "metadata": {},
   "outputs": [
    {
     "data": {
      "text/plain": [
       "True"
      ]
     },
     "execution_count": 19,
     "metadata": {},
     "output_type": "execute_result"
    }
   ],
   "source": [
    "non_zero (2)"
   ]
  },
  {
   "cell_type": "code",
   "execution_count": 22,
   "id": "b14d5ca2",
   "metadata": {},
   "outputs": [
    {
     "data": {
      "text/plain": [
       "False"
      ]
     },
     "execution_count": 22,
     "metadata": {},
     "output_type": "execute_result"
    }
   ],
   "source": [
    "non_zero (0)"
   ]
  },
  {
   "cell_type": "code",
   "execution_count": 23,
   "id": "285614ee",
   "metadata": {},
   "outputs": [
    {
     "data": {
      "text/plain": [
       "True"
      ]
     },
     "execution_count": 23,
     "metadata": {},
     "output_type": "execute_result"
    }
   ],
   "source": [
    "non_zero (-2)"
   ]
  },
  {
   "cell_type": "code",
   "execution_count": 24,
   "id": "9e8ed767",
   "metadata": {},
   "outputs": [],
   "source": [
    "def volume (width, height, depth):\n",
    "    return (width * height * depth)"
   ]
  },
  {
   "cell_type": "code",
   "execution_count": 25,
   "id": "bfc15e35",
   "metadata": {},
   "outputs": [
    {
     "data": {
      "text/plain": [
       "8"
      ]
     },
     "execution_count": 25,
     "metadata": {},
     "output_type": "execute_result"
    }
   ],
   "source": [
    "volume (2,2,2)"
   ]
  },
  {
   "cell_type": "code",
   "execution_count": 26,
   "id": "a81ec8cb",
   "metadata": {},
   "outputs": [],
   "source": [
    "def volume_ten_deep (width, height):\n",
    "    return volume (width, height, 10)\n",
    "    "
   ]
  },
  {
   "cell_type": "code",
   "execution_count": 27,
   "id": "ac9c4548",
   "metadata": {},
   "outputs": [
    {
     "data": {
      "text/plain": [
       "60"
      ]
     },
     "execution_count": 27,
     "metadata": {},
     "output_type": "execute_result"
    }
   ],
   "source": [
    "volume_ten_deep (2,3)"
   ]
  },
  {
   "cell_type": "code",
   "execution_count": 28,
   "id": "df02d4a7",
   "metadata": {},
   "outputs": [],
   "source": [
    "def is_consonant (letter):\n",
    "    if letter == \"a\" or letter == 'e' or letter == \"i\" or letter =='o' or letter == 'u':\n",
    "        return False\n",
    "    else:\n",
    "        return True\n",
    "    "
   ]
  },
  {
   "cell_type": "code",
   "execution_count": 29,
   "id": "c6c59629",
   "metadata": {},
   "outputs": [
    {
     "data": {
      "text/plain": [
       "False"
      ]
     },
     "execution_count": 29,
     "metadata": {},
     "output_type": "execute_result"
    }
   ],
   "source": [
    "is_consonant ('e')"
   ]
  },
  {
   "cell_type": "code",
   "execution_count": 30,
   "id": "904e6d75",
   "metadata": {},
   "outputs": [
    {
     "data": {
      "text/plain": [
       "True"
      ]
     },
     "execution_count": 30,
     "metadata": {},
     "output_type": "execute_result"
    }
   ],
   "source": [
    "is_consonant ('b')"
   ]
  },
  {
   "cell_type": "code",
   "execution_count": 31,
   "id": "02f0d160",
   "metadata": {},
   "outputs": [
    {
     "data": {
      "text/plain": [
       "True"
      ]
     },
     "execution_count": 31,
     "metadata": {},
     "output_type": "execute_result"
    }
   ],
   "source": [
    "is_consonant (3)"
   ]
  },
  {
   "cell_type": "code",
   "execution_count": 44,
   "id": "cbc83135",
   "metadata": {},
   "outputs": [],
   "source": [
    "def sum_nums (n):\n",
    "    sum = 0\n",
    "    for i in range(n+1):\n",
    "        return (sum + i)"
   ]
  },
  {
   "cell_type": "code",
   "execution_count": 45,
   "id": "343cc557",
   "metadata": {},
   "outputs": [
    {
     "data": {
      "text/plain": [
       "0"
      ]
     },
     "execution_count": 45,
     "metadata": {},
     "output_type": "execute_result"
    }
   ],
   "source": [
    "sum_nums (12)"
   ]
  },
  {
   "cell_type": "code",
   "execution_count": 38,
   "id": "8d513cfe",
   "metadata": {},
   "outputs": [
    {
     "ename": "TypeError",
     "evalue": "'int' object is not iterable",
     "output_type": "error",
     "traceback": [
      "\u001b[0;31m---------------------------------------------------------------------------\u001b[0m",
      "\u001b[0;31mTypeError\u001b[0m                                 Traceback (most recent call last)",
      "Cell \u001b[0;32mIn [38], line 1\u001b[0m\n\u001b[0;32m----> 1\u001b[0m \u001b[38;5;28;43menumerate\u001b[39;49m\u001b[43m \u001b[49m\u001b[43m(\u001b[49m\u001b[38;5;241;43m6\u001b[39;49m\u001b[43m)\u001b[49m\n",
      "\u001b[0;31mTypeError\u001b[0m: 'int' object is not iterable"
     ]
    }
   ],
   "source": []
  },
  {
   "cell_type": "code",
   "execution_count": null,
   "id": "33fa68dc",
   "metadata": {},
   "outputs": [],
   "source": []
  }
 ],
 "metadata": {
  "kernelspec": {
   "display_name": "Python 3 (ipykernel)",
   "language": "python",
   "name": "python3"
  },
  "language_info": {
   "codemirror_mode": {
    "name": "ipython",
    "version": 3
   },
   "file_extension": ".py",
   "mimetype": "text/x-python",
   "name": "python",
   "nbconvert_exporter": "python",
   "pygments_lexer": "ipython3",
   "version": "3.10.6"
  },
  "toc": {
   "base_numbering": 1,
   "nav_menu": {},
   "number_sections": true,
   "sideBar": true,
   "skip_h1_title": false,
   "title_cell": "Table of Contents",
   "title_sidebar": "Contents",
   "toc_cell": false,
   "toc_position": {},
   "toc_section_display": true,
   "toc_window_display": false
  }
 },
 "nbformat": 4,
 "nbformat_minor": 5
}
